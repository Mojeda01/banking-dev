{
 "cells": [
  {
   "cell_type": "markdown",
   "id": "80975a1c-898c-43e0-8304-8cc2f70358cc",
   "metadata": {},
   "source": [
    "```\n",
    "         ___________   ________________\n",
    "        /           \\ /                \\\n",
    "       /   _______   X     _______     \\\n",
    "      /   /       \\  |    /       \\     \\\n",
    "     /   /         \\ |   /         \\     \\\n",
    "    /   /___________\\|  /___________\\     \\\n",
    "   /_______/     \\_____/       \\_______\\    \\\n",
    "  |\\       \\     /     \\       /       /     |\n",
    "  | \\_______\\   /       \\_____/       /      |\n",
    "  | /       /  /_________\\    \\       \\      |\n",
    "  |/       /  /   \\       \\    \\       \\     |\n",
    "          /  /     \\       \\    \\       \\    |\n",
    "         /  /       \\       \\    \\       \\   |\n",
    "        /__/         \\_______\\    \\_______\\__|\n",
    "\n",
    "    +----------------------------------------------------------------+\n",
    "    |                                                                |\n",
    "    |          DNB Dev Overview - Account Information Service        |\n",
    "    |                                                                |\n",
    "    +----------------------------------------------------------------+\n",
    "```"
   ]
  },
  {
   "cell_type": "markdown",
   "id": "fa13e8f1-9f7d-4994-9f1d-fc08cbdd848d",
   "metadata": {},
   "source": [
    "This dedicated interface offers a comprehensive overview of both individual and corporate customer accounts, showcasing available balances and transaction details. It serves as an informative platform for Third Party Providers (TPPs) to access and manage customer banking information effectively. Explore how this API facilitates secure and convenient financial services interaction. To dive deeper into how the Account Information Service (AIS) works under the PSD2 directive, we need to look at several layers:"
   ]
  },
  {
   "cell_type": "markdown",
   "id": "74186425-6524-4f59-bbcb-56f5d3acbaea",
   "metadata": {},
   "source": [
    "1. **Regulatory Framework:** PSD2(Second Payment Service Directives) mandates banks to open access to customer financial data to authorized third-party providers (TPPs), once customers consent is obtained. This regulation aims to enhance competition and innovation in financial services.\n",
    "2. **Technical Standards:** The implementation involves the use of APIs (Application Programming Interfaces) which are defined under standards such as the Berlin Group's NextGenPSD2 framework. These standards ensure consistency, security, and interoperability between different banking systems and TPPs.\n",
    "3. **Security and Authentication:** Security is a critical aspect, managed through the use of tokens, certificates, and encrypted channels. TPPs must use eIDAS certificates (including QWACs and QSEALs) to authenticate themselves to banks and ensure secure communication.\n",
    "4. **Consent Management:** Consent is at the heart of PSD2. TPPs must obtain explicit consent from users to access their data. This process typically involves redirecting users to their bank's consent management page where they can login and authorize the TPP.\n",
    "5. **Data Flow:**\n",
    "    - **Initiation:** A TPP sends a request to a bank's API with proper authentication.\n",
    "    - **Consent Verification:** The bank verifies that consent has been given for the requested data.\n",
    "    - **Data Retrieval:** Once consent is confirmed, the bank processes the API call and sends the requested data back to the TPP."
   ]
  },
  {
   "cell_type": "markdown",
   "id": "c0d742f9-2619-47b1-83b3-36d6c8de8ba5",
   "metadata": {},
   "source": [
    "# Fetching Banking Information in Python\n",
    "To fetch banking information from a client using Python, you'd typically use the \"**requests**\" library to interact with the bank's API, handling secure connections and data retrieval. Below is an example of how to create a consent for account information access and subsequently fetch account details using the bank's API."
   ]
  },
  {
   "cell_type": "code",
   "execution_count": null,
   "id": "66aef678-cbc9-4a46-b215-86ce5c02c33c",
   "metadata": {},
   "outputs": [],
   "source": [
    "import requests\n",
    "\n",
    "# Example for creating a consent\n",
    "def create_consent():\n",
    "    url = \"https://api.bank.com/v2/consents\"\n",
    "    headers = {\n",
    "        \"Accept\": \"applicaton/json\",\n",
    "        \"Content-Type\": \"application/json\",\n",
    "        \"Authorization\": \"Bearer YOUR_ACCESS_TOKEN\", # Authorization token\n",
    "        \"X-Request-ID\": \"a unique identifier\",\n",
    "    }\n",
    "    payload = {\n",
    "        \"validUntil\": \"2022-01-30\",\n",
    "        \"frequencyPerDay\": 5,\n",
    "        \"access\":{\n",
    "            \"balances\": [],\n",
    "            \"accounts\": [],\n",
    "            \"transactions\":[]\n",
    "        },\n",
    "        \"recurringIndicator\": True\n",
    "    }\n",
    "    response = requests.post(url, json=payload, headers=headers)\n",
    "    return response.json()\n",
    "\n",
    "# Example for fetching account details\n",
    "def fetch_accounts(consent_id):\n",
    "    url = \"https://api.bank.com/v2/accounts\"\n",
    "    headers = {\n",
    "        \"Accept\": \"application/json\",\n",
    "        \"Content-Type\": \"application/json\",\n",
    "        \"Authorization\": \"bearer YOUR_ACCESS_TOKEN\", # Updated with a valid token\n",
    "        \"Consent-ID\": consent_id # The consent ID obtained from create_consent()\n",
    "    }\n",
    "\n",
    "# Creating consent and fetching accounts\n",
    "consent = create_consent()\n",
    "if consent.get(\"consentStatus\") == \"received\":\n",
    "    accounts = fetch_accounts(consent[\"consentId\"])\n",
    "    print(accounts)"
   ]
  },
  {
   "cell_type": "markdown",
   "id": "ed1e79e7-3463-46ff-8e3f-fc3d1a797ee3",
   "metadata": {},
   "source": [
    "1. **Authorization:** Uses OAuth tokens (**Authorizatio: Bearer YOUR_ACCESS_TOKEN**). This token authenticates the TPP to the bank's API securely.\n",
    "2. **Headers Configuation:** Includes necessary headers like \"**Content-Type**\" and \"**Accept**\" set to \"**application/json**\", ensuring that the server knows what kind of responses and requests are being exchanged.\n",
    "3. **Creating a Consent**\n",
    "    - **validUntil**, **frequencyPerDay**, **recurringIndicator**: Specifies how long the consent is valid, how frequently the TPP can access the data, and whether the consent is recurring.\n",
    "    - **POST** request: Sends a request to create a new consent to access user's financial data.\n",
    "4. **Fetching Account Details**\n",
    "    - Uses the \"**consent_id**\" obtained from the consent creation response.\n",
    "    - \"**GET**\" request: Retrieves account information under the scope of the granted consent.\n",
    "5. **Error Handling:** Proper error handling would be crucial to catch issues like network errors, invalid responses, etc., ensuring robustness in your implementation.\n",
    "\n",
    "This setup demonstrates a high-level interaction with a PSD2 compliant banking API, handling both consent management and data retrieval."
   ]
  }
 ],
 "metadata": {
  "kernelspec": {
   "display_name": "myenv",
   "language": "python",
   "name": "myenv"
  },
  "language_info": {
   "codemirror_mode": {
    "name": "ipython",
    "version": 3
   },
   "file_extension": ".py",
   "mimetype": "text/x-python",
   "name": "python",
   "nbconvert_exporter": "python",
   "pygments_lexer": "ipython3",
   "version": "3.11.6"
  }
 },
 "nbformat": 4,
 "nbformat_minor": 5
}
