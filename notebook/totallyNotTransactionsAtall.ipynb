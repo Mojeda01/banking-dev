{
 "cells": [
  {
   "cell_type": "code",
   "execution_count": 23,
   "id": "85087442-5e30-446b-8d4d-28d5ce0b8e5b",
   "metadata": {},
   "outputs": [],
   "source": [
    "import json"
   ]
  },
  {
   "cell_type": "code",
   "execution_count": 29,
   "id": "6e94cc33-85f6-446a-a04c-636d0036051e",
   "metadata": {},
   "outputs": [],
   "source": [
    "# Lists to store orders\n",
    "buy_orders = []\n",
    "sell_orders = []"
   ]
  },
  {
   "cell_type": "code",
   "execution_count": 41,
   "id": "81a8e6bf-9f52-48e8-ad76-b77a10f78baa",
   "metadata": {},
   "outputs": [],
   "source": [
    "def buy_order(buyer, amount, price_per_amount, product, buy_ID):\n",
    "    order = {\n",
    "        'Buyer': buyer,\n",
    "        'Amount': amount,\n",
    "        'Price per': price_per_amount,\n",
    "        'Product': product,\n",
    "        'Buy ID': buy_ID\n",
    "    }\n",
    "    buy_orders.append(order)  # Correct the reference to the list\n",
    "\n",
    "    # Write/Append to a JSON file\n",
    "    try:\n",
    "        # Try to read existing data and append the new order\n",
    "        with open('buy_orders.json', 'r+') as file:\n",
    "            # First we load existing data into a list\n",
    "            file_data = json.load(file)\n",
    "            # Set file's current position at offset\n",
    "            file.seek(0)\n",
    "            # Convert back to json and write in the file\n",
    "            json.dump(file_data, file, indent=4)\n",
    "    except FileNotFoundError:\n",
    "        # If the file doesn't exist, create it and write the order\n",
    "        with open('buy_orders.json', 'w') as file:\n",
    "            json.dump([order], file, indent=4)\n",
    "    \n",
    "    return order"
   ]
  },
  {
   "cell_type": "code",
   "execution_count": 43,
   "id": "f1b27918-6495-401c-b120-7da37519034e",
   "metadata": {},
   "outputs": [],
   "source": [
    "def sell_order(seller, amount, price_per_amount, product, sell_ID):\n",
    "    order = {\n",
    "        'Seller': seller,\n",
    "        'Amount': amount,\n",
    "        'Price per': price_per_amount,\n",
    "        'Product': product,\n",
    "        'Sell ID': sell_ID\n",
    "    }\n",
    "    sell_orders.append(order)  # Correct the reference to the list\n",
    "\n",
    "    # Write/Append to a JSON file\n",
    "    try:\n",
    "        with open('sell_orders.json', 'r+') as file:\n",
    "            # First we load existing data into a list\n",
    "            file_data = json.load(file)\n",
    "            # Set file's current position at offset\n",
    "            file.seek(0)\n",
    "            # Convert back to json and write in the file\n",
    "            json.dump(file_data, file, indent=4)\n",
    "    except FileNotFoundError:\n",
    "        # If the file doesn't exist, creaite it and write the order\n",
    "        with open('sell_orders.json', 'w') as file:\n",
    "            json.dump([order], file, indent=4)\n",
    "    \n",
    "    return order\n"
   ]
  },
  {
   "cell_type": "code",
   "execution_count": 48,
   "id": "adbaadbd-f6cd-43bc-9afe-b578da1ae44f",
   "metadata": {},
   "outputs": [],
   "source": [
    "def transaction():\n",
    "    matches = []\n",
    "    remaining_buys = buy_orders[:]\n",
    "    remaining_sells = sell_orders[:]\n",
    "\n",
    "    for buy in remaining_buys:\n",
    "        for sell in remaining_sells:\n",
    "            if (buy['Amount'] == sell['Amount'] and\n",
    "                buy['Product'] == sell['Product'] and\n",
    "                buy['Price per'] == sell['Price per']):\n",
    "                \n",
    "                matches.append({\n",
    "                    'Buy ID': buy['Buy ID'],\n",
    "                    'Sell ID': sell['Sell ID'],\n",
    "                    'Product': buy['Product'],\n",
    "                    'Transacted Amount': buy['Amount'],\n",
    "                    'Price': buy['Price per']\n",
    "                })\n",
    "\n",
    "                # Write/Append to the JSON file\n",
    "                try:\n",
    "                    # Try to read existing data and append the new match\n",
    "                    with open('transactions.json', 'r+') as file:\n",
    "                        file_data = json.load(file)\n",
    "                        file_data.append(matches)\n",
    "                        file.seek(0)\n",
    "                        json.dump(file_data, file, indent=4)\n",
    "                except FileNotFoundError:\n",
    "                    # If the file doesn't exist, create it and write the match\n",
    "                    with open('transactions.json', 'w') as file:\n",
    "                        json.dump([matches], file, indent=4)\n",
    "                \n",
    "                # Assuming orders are removed once fully matched\n",
    "                buy_orders.remove(buy)\n",
    "                sell_orders.remove(sell)\n",
    "                break  # Exit loop after a match to avoid duplicate transactions\n",
    "\n",
    "    return matches"
   ]
  },
  {
   "cell_type": "code",
   "execution_count": 61,
   "id": "0a04e416-94b5-41c3-b159-ea2f71e04b6a",
   "metadata": {},
   "outputs": [
    {
     "data": {
      "text/plain": [
       "[{'Buy ID': 'B002',\n",
       "  'Sell ID': 'S002',\n",
       "  'Product': 'Widget',\n",
       "  'Transacted Amount': 300,\n",
       "  'Price': 50}]"
      ]
     },
     "execution_count": 61,
     "metadata": {},
     "output_type": "execute_result"
    }
   ],
   "source": [
    "buy_order('Buyer2', 300, 50, 'Widget', 'B002')\n",
    "sell_order('Seller2', 300, 50, 'Widget', 'S002')\n",
    "\n",
    "transaction()"
   ]
  },
  {
   "cell_type": "code",
   "execution_count": null,
   "id": "9911d8ea-89e4-422b-a080-1a27b8b31e65",
   "metadata": {},
   "outputs": [],
   "source": []
  }
 ],
 "metadata": {
  "kernelspec": {
   "display_name": "dnbDevKernel",
   "language": "python",
   "name": "dnbdevkernel"
  },
  "language_info": {
   "codemirror_mode": {
    "name": "ipython",
    "version": 3
   },
   "file_extension": ".py",
   "mimetype": "text/x-python",
   "name": "python",
   "nbconvert_exporter": "python",
   "pygments_lexer": "ipython3",
   "version": "3.11.6"
  }
 },
 "nbformat": 4,
 "nbformat_minor": 5
}
